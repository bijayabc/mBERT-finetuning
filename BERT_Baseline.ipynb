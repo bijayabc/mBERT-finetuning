{
  "nbformat": 4,
  "nbformat_minor": 0,
  "metadata": {
    "colab": {
      "provenance": [],
      "machine_shape": "hm",
      "gpuType": "A100",
      "authorship_tag": "ABX9TyPNypkusvQ14iSQJXFso3kp",
      "include_colab_link": true
    },
    "kernelspec": {
      "name": "python3",
      "display_name": "Python 3"
    },
    "language_info": {
      "name": "python"
    },
    "accelerator": "GPU"
  },
  "cells": [
    {
      "cell_type": "markdown",
      "metadata": {
        "id": "view-in-github",
        "colab_type": "text"
      },
      "source": [
        "<a href=\"https://colab.research.google.com/github/bijayabc/mBERT-finetuning/blob/main/BERT_Baseline.ipynb\" target=\"_parent\"><img src=\"https://colab.research.google.com/assets/colab-badge.svg\" alt=\"Open In Colab\"/></a>"
      ]
    },
    {
      "cell_type": "code",
      "execution_count": null,
      "metadata": {
        "id": "4i0XVs7_Nkp0"
      },
      "outputs": [],
      "source": [
        "! pip install transformers datasets lightning"
      ]
    },
    {
      "cell_type": "code",
      "source": [
        "from datasets import load_dataset\n",
        "import lightning as L\n",
        "from transformers import AutoTokenizer\n",
        "from transformers import AutoModelForSequenceClassification\n",
        "import torch"
      ],
      "metadata": {
        "id": "Rsn1MDddNs24"
      },
      "execution_count": null,
      "outputs": []
    },
    {
      "cell_type": "code",
      "source": [
        "dataset = load_dataset('IRIIS-RESEARCH/Sentiment-Analysis-Nepali')\n",
        "print(dataset)"
      ],
      "metadata": {
        "id": "AvOCYF5yN--Z"
      },
      "execution_count": null,
      "outputs": []
    },
    {
      "cell_type": "code",
      "source": [
        "test_dataset_raw = dataset['test']"
      ],
      "metadata": {
        "id": "nryvjJOWOAuG"
      },
      "execution_count": null,
      "outputs": []
    },
    {
      "cell_type": "code",
      "source": [
        "# initialize the bert tokenizer\n",
        "tokenizer = AutoTokenizer.from_pretrained('bert-base-multilingual-cased')\n",
        "\n",
        "def tokenize_function(examples):\n",
        "    # texts = [str(t) if t is not None else \"\" for t in examples['Sentences']]\n",
        "    texts = [str(t) if t is not None else \"\" for t in examples['sentences']]\n",
        "    return tokenizer(texts, padding='max_length', truncation=True, max_length=128)\n",
        "\n",
        "# Tokenize each split separately\n",
        "test_dataset = test_dataset_raw.map(tokenize_function, batched=True)\n",
        "# test_dataset.set_format('torch', columns=['input_ids', 'attention_mask', 'Sentiment'])\n",
        "test_dataset.set_format('torch', columns=['input_ids', 'attention_mask', 'sentiment'])"
      ],
      "metadata": {
        "id": "cdnpAmQMOCLk"
      },
      "execution_count": null,
      "outputs": []
    },
    {
      "cell_type": "code",
      "source": [
        "from torch.utils.data import DataLoader, Dataset\n",
        "\n",
        "# try using num_workers=2 and see if it is faster\n",
        "test_loader = DataLoader(test_dataset, batch_size=32, shuffle=True, num_workers=12, pin_memory=True)\n",
        "\n",
        "for batch in test_loader:\n",
        "    input_ids = batch['input_ids']\n",
        "    attention_mask = batch['attention_mask']\n",
        "    # labels = batch['Sentiment']\n",
        "    labels = batch['sentiment']\n",
        "    # feed these into your model"
      ],
      "metadata": {
        "id": "PxCcEJq0OFf0"
      },
      "execution_count": null,
      "outputs": []
    },
    {
      "cell_type": "code",
      "source": [
        "model_name = \"bert-base-multilingual-cased\"\n",
        "tokenizer = AutoTokenizer.from_pretrained(model_name)\n",
        "model = AutoModelForSequenceClassification.from_pretrained(model_name, num_labels=3)\n",
        "\n",
        "model.eval()  # important: disable dropout"
      ],
      "metadata": {
        "id": "_SOoO7elOOhJ"
      },
      "execution_count": null,
      "outputs": []
    },
    {
      "cell_type": "code",
      "source": [
        "from torchmetrics import Accuracy\n",
        "\n",
        "device = torch.device(\"cuda\" if torch.cuda.is_available() else \"cpu\")\n",
        "acc = Accuracy(task=\"multiclass\", num_classes=3).to(device)  # <--- move metric to GPU\n",
        "\n",
        "model.to(device)\n",
        "model.eval()\n",
        "\n",
        "for batch in test_loader:\n",
        "    input_ids = batch[\"input_ids\"].to(device)\n",
        "    attention_mask = batch[\"attention_mask\"].to(device)\n",
        "    # labels = batch[\"Sentiment\"].to(device)\n",
        "    labels = batch[\"sentiment\"].to(device)\n",
        "\n",
        "    with torch.no_grad():\n",
        "        outputs = model(input_ids, attention_mask=attention_mask)\n",
        "        logits = outputs.logits\n",
        "        preds = torch.argmax(logits, dim=1)\n",
        "        acc.update(preds, labels)\n",
        "\n",
        "baseline_accuracy = acc.compute().item()\n",
        "print(f\"Baseline mBERT accuracy (zero-shot): {baseline_accuracy:.4f}\")\n"
      ],
      "metadata": {
        "id": "NVMdn0hJObNn"
      },
      "execution_count": null,
      "outputs": []
    }
  ]
}